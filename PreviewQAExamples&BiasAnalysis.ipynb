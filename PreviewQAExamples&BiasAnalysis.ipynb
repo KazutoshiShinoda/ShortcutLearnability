{
 "cells": [
  {
   "cell_type": "markdown",
   "id": "f71610d9",
   "metadata": {},
   "source": [
    "# For what is this notebook for?\n",
    "- Defining shortcut and anti-shortcut examples in multiple-choice QA."
   ]
  },
  {
   "cell_type": "markdown",
   "id": "7529eeb8",
   "metadata": {},
   "source": [
    "# Import & Definition"
   ]
  },
  {
   "cell_type": "code",
   "execution_count": 1,
   "id": "44a98814",
   "metadata": {},
   "outputs": [],
   "source": [
    "import os\n",
    "import torch\n",
    "import numpy as np\n",
    "import math\n",
    "from tqdm import tqdm\n",
    "from pathlib import Path\n",
    "from collections import Counter, defaultdict\n",
    "from squad import SquadV1Processor, SquadExample\n",
    "import spacy\n",
    "nlp = spacy.load(\"en_core_web_sm\")\n",
    "import matplotlib.pyplot as plt\n",
    "from utils import load_json, save_json\n",
    "import seaborn as sns\n",
    "sns.set()"
   ]
  },
  {
   "cell_type": "code",
   "execution_count": 7,
   "id": "de14193d",
   "metadata": {},
   "outputs": [],
   "source": [
    "race_dir = os.environ['RACE_DIR']\n",
    "reclor_dir = os.environ['ReClor_DIR']\n",
    "analysis_dir = os.environ['RE_ANALYSIS_DIR']"
   ]
  },
  {
   "cell_type": "code",
   "execution_count": 8,
   "id": "32db6d43",
   "metadata": {},
   "outputs": [],
   "source": [
    "def print_mcqa_example(ex):\n",
    "    \"\"\"\n",
    "    example_id: str\n",
    "    question: str\n",
    "    contexts: List[str]\n",
    "    endings: List[str]\n",
    "    label: Optional[str]\n",
    "    \"\"\"\n",
    "    print(\"----\")\n",
    "    print(\"ID:\", ex.example_id)\n",
    "    print(\"Context 📗: \", ex.contexts[0])\n",
    "    print()\n",
    "    print(\"Question 💡:\", ex.question)\n",
    "    print(\"Options 🌿:\", ex.endings)\n",
    "    print(\"Answer 🍎:\", ex.label)\n",
    "    print(\"----\")"
   ]
  },
  {
   "cell_type": "code",
   "execution_count": 9,
   "id": "32d76955",
   "metadata": {},
   "outputs": [],
   "source": [
    "def print_exqa_example(ex):\n",
    "    print(\"----\")\n",
    "    print(\"ID:\", ex.qas_id)\n",
    "    print(\"Context 📗: \", ex.context_text)\n",
    "    print()\n",
    "    print(\"Question 💡:\", ex.question_text)\n",
    "    print(\"Answer 🍎:\", ex.answers)\n",
    "    print(\"----\")"
   ]
  },
  {
   "cell_type": "code",
   "execution_count": 10,
   "id": "d4527951",
   "metadata": {},
   "outputs": [],
   "source": [
    "def print_race_examples(ex):\n",
    "    assert isinstance(ex, dict)\n",
    "    print(\"----\")\n",
    "    if 'example_id' in ex:\n",
    "        print(\"ID:\", ex.example_id)\n",
    "    elif 'id' in ex['document']:\n",
    "        print(\"DocID:\", ex['document']['id'])\n",
    "    print(\"Context 📗: \", ex['document']['summary']['text'])\n",
    "    print()\n",
    "    print(\"Question 💡:\", ex['question']['text'])\n",
    "    print(\"Answers 🍎:\", [_a['text'] for _a in ex['answers']])\n",
    "    print(\"----\")"
   ]
  },
  {
   "cell_type": "code",
   "execution_count": 11,
   "id": "ed99184a",
   "metadata": {},
   "outputs": [],
   "source": [
    "def get_analysis_result(key, name, task_type='ex-qa'):\n",
    "    analysis_task_dir = Path(analysis_dir) / task_type\n",
    "    analysis_file = analysis_task_dir / f\"{key}_{name}.json\"\n",
    "    analysis_result = load_json(analysis_file)\n",
    "    return analysis_result"
   ]
  },
  {
   "cell_type": "code",
   "execution_count": 12,
   "id": "70ab3065",
   "metadata": {},
   "outputs": [],
   "source": [
    "def get_offset_id2w(doc):\n",
    "    # from char index to word index\n",
    "    id2w = {}\n",
    "    tm1 = 0\n",
    "    for i, t in enumerate(doc):\n",
    "        for j in range(tm1, t.idx):\n",
    "            # t.idx: char-level start position of t (token)\n",
    "            id2w[j] = i - 1\n",
    "        tm1 = t.idx\n",
    "    for j in range(t.idx, t.idx+len(t)+1):\n",
    "        id2w[j] = i\n",
    "    return id2w\n",
    "\n",
    "def get_common_ngram(sent1, sent2, n):\n",
    "    \"\"\"\n",
    "    sent1, sent2 (str): lower cased tokens joined with spaces\n",
    "    n (int): n-gram\n",
    "    \"\"\"\n",
    "    if len(sent1.split()) < n or len(sent2.split()) < n:\n",
    "        return 0\n",
    "    m = 0\n",
    "    tokens = sent2.split()\n",
    "    for i in range(len(tokens) - n + 1):\n",
    "        ngram = tokens[i:i+n]\n",
    "        assert len(ngram) == n\n",
    "        ngram = ' '.join(ngram)\n",
    "        if ngram in sent1:\n",
    "            m += 1\n",
    "    return m"
   ]
  },
  {
   "cell_type": "markdown",
   "id": "b1dbf465",
   "metadata": {},
   "source": [
    "# EX-QA"
   ]
  },
  {
   "cell_type": "code",
   "execution_count": 5,
   "id": "3011b4eb",
   "metadata": {},
   "outputs": [],
   "source": [
    "DATASET_DIR = Path('dataset')"
   ]
  },
  {
   "cell_type": "code",
   "execution_count": 6,
   "id": "7ae99494",
   "metadata": {
    "scrolled": true
   },
   "outputs": [
    {
     "name": "stderr",
     "output_type": "stream",
     "text": [
      "100%|██████████| 442/442 [00:41<00:00, 10.60it/s]\n"
     ]
    }
   ],
   "source": [
    "processor = SquadV1Processor()\n",
    "file = DATASET_DIR / 'ex-qa/squad/train-v1.1.json'\n",
    "squad_train_examples = processor.get_train_examples(None, filename=file, do_lower_case=False)"
   ]
  },
  {
   "cell_type": "code",
   "execution_count": 14,
   "id": "87e6e49f",
   "metadata": {},
   "outputs": [
    {
     "name": "stderr",
     "output_type": "stream",
     "text": [
      "100%|██████████| 48/48 [00:04<00:00,  9.79it/s]\n"
     ]
    }
   ],
   "source": [
    "processor = SquadV1Processor()\n",
    "file = DATASET_DIR / 'ex-qa/squad/dev-v1.1.json'\n",
    "squad_dev_examples = processor.get_train_examples(None, filename=file, do_lower_case=False)"
   ]
  },
  {
   "cell_type": "code",
   "execution_count": 555,
   "id": "dd03ecb5",
   "metadata": {},
   "outputs": [
    {
     "name": "stderr",
     "output_type": "stream",
     "text": [
      "100%|██████████| 1/1 [02:21<00:00, 141.71s/it]\n"
     ]
    }
   ],
   "source": [
    "processor = SquadV1Processor()\n",
    "file = DATASET_DIR / 'ex-qa/mrqa/train/NewsQA-train-from-MRQA.json'\n",
    "newsqa_train_examples = processor.get_train_examples(None, filename=file, do_lower_case=False)"
   ]
  },
  {
   "cell_type": "code",
   "execution_count": 12,
   "id": "213d32db",
   "metadata": {},
   "outputs": [
    {
     "name": "stderr",
     "output_type": "stream",
     "text": [
      "100%|██████████| 1/1 [00:39<00:00, 39.23s/it]\n"
     ]
    }
   ],
   "source": [
    "processor = SquadV1Processor()\n",
    "file = DATASET_DIR / 'ex-qa/mrqa/dev/SearchQA-dev-from-MRQA.json'\n",
    "searchqa_dev_examples = processor.get_train_examples(None, filename=file, do_lower_case=False)"
   ]
  },
  {
   "cell_type": "code",
   "execution_count": 17,
   "id": "f55d8c63",
   "metadata": {},
   "outputs": [
    {
     "name": "stderr",
     "output_type": "stream",
     "text": [
      "100%|██████████| 1/1 [00:19<00:00, 19.06s/it]\n"
     ]
    }
   ],
   "source": [
    "processor = SquadV1Processor()\n",
    "file = DATASET_DIR / 'ex-qa/mrqa/dev/TriviaQA-web-dev-from-MRQA.json'\n",
    "triviaqa_dev_examples = processor.get_train_examples(None, filename=file, do_lower_case=False)"
   ]
  },
  {
   "cell_type": "code",
   "execution_count": 567,
   "id": "6bf9e92f",
   "metadata": {},
   "outputs": [],
   "source": [
    "ar = {}\n",
    "ar['answer-candidates'] = get_analysis_result('answer-candidates', 'train-v1.1')"
   ]
  },
  {
   "cell_type": "code",
   "execution_count": 20,
   "id": "77993048",
   "metadata": {},
   "outputs": [],
   "source": [
    "ar = {}\n",
    "ar['answer-candidates'] = get_analysis_result('answer-candidates', 'TriviaQA-web-dev-from-MRQA')"
   ]
  },
  {
   "cell_type": "code",
   "execution_count": null,
   "id": "bce1a2d9",
   "metadata": {},
   "outputs": [],
   "source": []
  },
  {
   "cell_type": "code",
   "execution_count": 19,
   "id": "7edfffb1",
   "metadata": {
    "scrolled": true
   },
   "outputs": [
    {
     "name": "stdout",
     "output_type": "stream",
     "text": [
      "----\n",
      "ID: 5733be284776f41900661182\n",
      "Context 📗:  Architecturally, the school has a Catholic character. Atop the Main Building's gold dome is a golden statue of the Virgin Mary. Immediately in front of the Main Building and facing it, is a copper statue of Christ with arms upraised with the legend \"Venite Ad Me Omnes\". Next to the Main Building is the Basilica of the Sacred Heart. Immediately behind the basilica is the Grotto, a Marian place of prayer and reflection. It is a replica of the grotto at Lourdes, France where the Virgin Mary reputedly appeared to Saint Bernadette Soubirous in 1858. At the end of the main drive (and in a direct line that connects through 3 statues and the Gold Dome), is a simple, modern stone statue of Mary.\n",
      "\n",
      "Question 💡: To whom did the Virgin Mary allegedly appear in 1858 in Lourdes France?\n",
      "Answer 🍎: [{'answer_start': 515, 'text': 'Saint Bernadette Soubirous'}]\n",
      "----\n",
      "----\n",
      "ID: 5733be284776f4190066117f\n",
      "Context 📗:  Architecturally, the school has a Catholic character. Atop the Main Building's gold dome is a golden statue of the Virgin Mary. Immediately in front of the Main Building and facing it, is a copper statue of Christ with arms upraised with the legend \"Venite Ad Me Omnes\". Next to the Main Building is the Basilica of the Sacred Heart. Immediately behind the basilica is the Grotto, a Marian place of prayer and reflection. It is a replica of the grotto at Lourdes, France where the Virgin Mary reputedly appeared to Saint Bernadette Soubirous in 1858. At the end of the main drive (and in a direct line that connects through 3 statues and the Gold Dome), is a simple, modern stone statue of Mary.\n",
      "\n",
      "Question 💡: What is in front of the Notre Dame Main Building?\n",
      "Answer 🍎: [{'answer_start': 188, 'text': 'a copper statue of Christ'}]\n",
      "----\n",
      "----\n",
      "ID: 5733be284776f41900661180\n",
      "Context 📗:  Architecturally, the school has a Catholic character. Atop the Main Building's gold dome is a golden statue of the Virgin Mary. Immediately in front of the Main Building and facing it, is a copper statue of Christ with arms upraised with the legend \"Venite Ad Me Omnes\". Next to the Main Building is the Basilica of the Sacred Heart. Immediately behind the basilica is the Grotto, a Marian place of prayer and reflection. It is a replica of the grotto at Lourdes, France where the Virgin Mary reputedly appeared to Saint Bernadette Soubirous in 1858. At the end of the main drive (and in a direct line that connects through 3 statues and the Gold Dome), is a simple, modern stone statue of Mary.\n",
      "\n",
      "Question 💡: The Basilica of the Sacred heart at Notre Dame is beside to which structure?\n",
      "Answer 🍎: [{'answer_start': 279, 'text': 'the Main Building'}]\n",
      "----\n",
      "----\n",
      "ID: 5733be284776f41900661181\n",
      "Context 📗:  Architecturally, the school has a Catholic character. Atop the Main Building's gold dome is a golden statue of the Virgin Mary. Immediately in front of the Main Building and facing it, is a copper statue of Christ with arms upraised with the legend \"Venite Ad Me Omnes\". Next to the Main Building is the Basilica of the Sacred Heart. Immediately behind the basilica is the Grotto, a Marian place of prayer and reflection. It is a replica of the grotto at Lourdes, France where the Virgin Mary reputedly appeared to Saint Bernadette Soubirous in 1858. At the end of the main drive (and in a direct line that connects through 3 statues and the Gold Dome), is a simple, modern stone statue of Mary.\n",
      "\n",
      "Question 💡: What is the Grotto at Notre Dame?\n",
      "Answer 🍎: [{'answer_start': 381, 'text': 'a Marian place of prayer and reflection'}]\n",
      "----\n",
      "----\n",
      "ID: 5733be284776f4190066117e\n",
      "Context 📗:  Architecturally, the school has a Catholic character. Atop the Main Building's gold dome is a golden statue of the Virgin Mary. Immediately in front of the Main Building and facing it, is a copper statue of Christ with arms upraised with the legend \"Venite Ad Me Omnes\". Next to the Main Building is the Basilica of the Sacred Heart. Immediately behind the basilica is the Grotto, a Marian place of prayer and reflection. It is a replica of the grotto at Lourdes, France where the Virgin Mary reputedly appeared to Saint Bernadette Soubirous in 1858. At the end of the main drive (and in a direct line that connects through 3 statues and the Gold Dome), is a simple, modern stone statue of Mary.\n",
      "\n",
      "Question 💡: What sits on top of the Main Building at Notre Dame?\n",
      "Answer 🍎: [{'answer_start': 92, 'text': 'a golden statue of the Virgin Mary'}]\n",
      "----\n"
     ]
    }
   ],
   "source": [
    "for i in range(5):\n",
    "    print_exqa_example(squad_train_examples[i])\n",
    "    _id = squad_train_examples[i].qas_id"
   ]
  },
  {
   "cell_type": "markdown",
   "id": "fe744c4b",
   "metadata": {},
   "source": [
    "# MC-QA"
   ]
  },
  {
   "cell_type": "code",
   "execution_count": 2,
   "id": "347c928b",
   "metadata": {},
   "outputs": [],
   "source": [
    "from utils_multiple_choice import MultipleChoiceDataset, Split, processors\n",
    "from transformers.data.data_collator import default_data_collator\n",
    "from torch.utils.data import DataLoader, RandomSampler, SequentialSampler, Subset"
   ]
  },
  {
   "cell_type": "code",
   "execution_count": 9,
   "id": "eb9d1093",
   "metadata": {},
   "outputs": [],
   "source": [
    "from transformers import AutoTokenizer\n",
    "tokenizer = AutoTokenizer.from_pretrained(\"roberta-base\", use_fast=False)\n",
    "\n",
    "dataset = MultipleChoiceDataset(\n",
    "        data_dir=DATASET_DIR / \"mc-qa/RACE\",\n",
    "        tokenizer=tokenizer,\n",
    "        task=\"race\",\n",
    "        max_seq_length=512,\n",
    "        overwrite_cache=False,\n",
    "        mode=Split.dev,\n",
    "    )"
   ]
  },
  {
   "cell_type": "code",
   "execution_count": 13,
   "id": "504b65fe",
   "metadata": {},
   "outputs": [],
   "source": [
    "sampler = SequentialSampler(dataset)\n",
    "dataloader = DataLoader(\n",
    "    dataset,\n",
    "    batch_size=12,\n",
    "    sampler=sampler,\n",
    "    collate_fn=default_data_collator,\n",
    "    num_workers=0,\n",
    "    pin_memory=True,\n",
    ")"
   ]
  },
  {
   "cell_type": "code",
   "execution_count": 15,
   "id": "0719f0b0",
   "metadata": {},
   "outputs": [],
   "source": [
    "for d in dataloader:\n",
    "    break"
   ]
  },
  {
   "cell_type": "code",
   "execution_count": 17,
   "id": "6980d3ef",
   "metadata": {
    "scrolled": true
   },
   "outputs": [
    {
     "data": {
      "text/plain": [
       "(torch.Size([12, 4, 512]), torch.Tensor)"
      ]
     },
     "execution_count": 17,
     "metadata": {},
     "output_type": "execute_result"
    }
   ],
   "source": [
    "d[\"input_ids\"].shape, type(d[\"input_ids\"])"
   ]
  },
  {
   "cell_type": "code",
   "execution_count": 585,
   "id": "6379b32a",
   "metadata": {},
   "outputs": [
    {
     "data": {
      "text/plain": [
       "dict_keys(['labels', 'input_ids', 'attention_mask'])"
      ]
     },
     "execution_count": 585,
     "metadata": {},
     "output_type": "execute_result"
    }
   ],
   "source": [
    "d.keys()"
   ]
  },
  {
   "cell_type": "markdown",
   "id": "0ad12989",
   "metadata": {},
   "source": [
    "## Load Examples"
   ]
  },
  {
   "cell_type": "code",
   "execution_count": 29,
   "id": "07b7e519",
   "metadata": {},
   "outputs": [],
   "source": [
    "from utils_multiple_choice import  RaceProcessor, ReclorProcessor"
   ]
  },
  {
   "cell_type": "code",
   "execution_count": 31,
   "id": "e7447354",
   "metadata": {
    "scrolled": false
   },
   "outputs": [
    {
     "name": "stderr",
     "output_type": "stream",
     "text": [
      "read files: 100%|██████████| 18728/18728 [00:13<00:00, 1437.68it/s]\n",
      "read files: 100%|██████████| 6409/6409 [00:04<00:00, 1423.82it/s]\n"
     ]
    }
   ],
   "source": [
    "race_processor = RaceProcessor()\n",
    "race_train_examples = race_processor.get_train_examples(race_dir)"
   ]
  },
  {
   "cell_type": "code",
   "execution_count": 21,
   "id": "2703b27b",
   "metadata": {},
   "outputs": [
    {
     "name": "stderr",
     "output_type": "stream",
     "text": [
      "read files: 100%|██████████| 1045/1045 [00:00<00:00, 1842.92it/s]\n",
      "read files: 100%|██████████| 362/362 [00:00<00:00, 1895.83it/s]\n"
     ]
    }
   ],
   "source": [
    "race_processor = RaceProcessor()\n",
    "race_test_examples = race_processor.get_test_examples(race_dir)"
   ]
  },
  {
   "cell_type": "code",
   "execution_count": 30,
   "id": "c69d5348",
   "metadata": {},
   "outputs": [],
   "source": [
    "reclor_processor = ReclorProcessor()\n",
    "reclor_train_examples = reclor_processor.get_train_examples(reclor_dir)"
   ]
  },
  {
   "cell_type": "code",
   "execution_count": 115,
   "id": "46707791",
   "metadata": {},
   "outputs": [],
   "source": [
    "reclor_test_examples = reclor_processor.get_test_examples(reclor_dir)"
   ]
  },
  {
   "cell_type": "code",
   "execution_count": 116,
   "id": "72324dda",
   "metadata": {},
   "outputs": [],
   "source": [
    "# reclor_ids = [e.example_id + e.question + ''.join(e.endings) for e in reclor_train_examples]\n",
    "reclor_ids = [e.example_id  for e in reclor_test_examples]"
   ]
  },
  {
   "cell_type": "code",
   "execution_count": 117,
   "id": "71c540e6",
   "metadata": {
    "scrolled": true
   },
   "outputs": [
    {
     "data": {
      "text/plain": [
       "(1000, 1000)"
      ]
     },
     "execution_count": 117,
     "metadata": {},
     "output_type": "execute_result"
    }
   ],
   "source": [
    "len(reclor_ids), len(set(reclor_ids))"
   ]
  },
  {
   "cell_type": "code",
   "execution_count": 8,
   "id": "40a381d3",
   "metadata": {
    "scrolled": true
   },
   "outputs": [
    {
     "data": {
      "text/plain": [
       "dict_keys(['example_id', 'question', 'contexts', 'endings', 'label'])"
      ]
     },
     "execution_count": 8,
     "metadata": {},
     "output_type": "execute_result"
    }
   ],
   "source": [
    "race_train_examples[0].__dict__.keys()"
   ]
  },
  {
   "cell_type": "code",
   "execution_count": 410,
   "id": "772cc5d3",
   "metadata": {},
   "outputs": [],
   "source": [
    "keys = [\n",
    "    'answer-context-ngram-overlap-per-sent',\n",
    "    'answer-context-similar-sent',\n",
    "    'answer-option-ngram-overlap',\n",
    "    'question-context-similar-sent',\n",
    "]\n",
    "ar = {}\n",
    "for k in keys:\n",
    "    ar[k] = get_analysis_result(k, 'reclor-train', task_type='mc-qa')"
   ]
  },
  {
   "cell_type": "code",
   "execution_count": 12,
   "id": "a07bd0b2",
   "metadata": {},
   "outputs": [],
   "source": [
    "examples = race_train_examples"
   ]
  },
  {
   "cell_type": "code",
   "execution_count": 65,
   "id": "be9d326b",
   "metadata": {},
   "outputs": [],
   "source": [
    "examples = race_test_examples"
   ]
  },
  {
   "cell_type": "code",
   "execution_count": 385,
   "id": "b9f8d507",
   "metadata": {},
   "outputs": [],
   "source": [
    "examples = reclor_train_examples"
   ]
  },
  {
   "cell_type": "code",
   "execution_count": 118,
   "id": "9e7651d5",
   "metadata": {},
   "outputs": [],
   "source": [
    "examples = reclor_test_examples"
   ]
  },
  {
   "cell_type": "code",
   "execution_count": 22,
   "id": "6276066e",
   "metadata": {},
   "outputs": [
    {
     "name": "stdout",
     "output_type": "stream",
     "text": [
      "----\n",
      "ID: test-/works/data0/shinoda/dataset/mc-qa/RACE/test/high/19432.txt\n",
      "Context 📗:  The rain had continued for a week and the flood had created a big river which were running by Nancy Brown's farm. As she tried to gather her cows to a higher ground, she slipped and hit her head on a fallen tree trunk. The fall made her unconscious for a moment or two. When she came to, Lizzie, one of her oldest and favorite cows, was licking her face. \n",
      "At that time, the water level on the farm was still rising. Nancy gathered all her strength to get up and began walking slowly with Lizzie. The rain had become much heavier, and the water in the field was now waist high. Nancy's pace got slower and slower because she felt a great pain in her head. Finally, all she could do was to throw her arm around Lizzie's neck and try to hang on. About 20 minutes later, Lizzie managed to pull herself and Nancy out of the rising water and onto a bit of high land, which seemed like a small island in the middle of a lake of white water. \n",
      "Even though it was about noon, the sky was so dark and the rain and lightning was so bad that it took rescuers more than two hours to discover Nancy. A man from a helicopter  lowered a rope, but Nancy couldn't catch it. A moment later, two men landed on the small island from a ladder in the helicopter. They raised her into the helicopter and took her to the school gym, where the Red Cross had set up an emergency shelter. \n",
      "When the flood disappeared two days later, Nancy immediately went back to the \"island.\" Lizzie was gone. She was one of 19 cows that Nancy had lost in the flood. \"I owe my life to her,\" said Nancy with tears.\n",
      "\n",
      "Question 💡: What did Nancy try to do before she fell over?\n",
      "Options 🌿: ['Measure the depth of the river', 'Look for a fallen tree trunk', 'Protect her cows from being drowned', 'Run away from the flooded farm']\n",
      "Answer 🍎: 2\n",
      "----\n"
     ]
    }
   ],
   "source": [
    "i=0\n",
    "\n",
    "print_mcqa_example(race_test_examples[i])"
   ]
  },
  {
   "cell_type": "code",
   "execution_count": null,
   "id": "6f7cebd6",
   "metadata": {},
   "outputs": [],
   "source": []
  },
  {
   "cell_type": "code",
   "execution_count": null,
   "id": "0f086834",
   "metadata": {},
   "outputs": [],
   "source": []
  },
  {
   "cell_type": "markdown",
   "id": "601db845",
   "metadata": {},
   "source": [
    "## Lexical Overlap\n",
    "### Processing data"
   ]
  },
  {
   "cell_type": "code",
   "execution_count": 119,
   "id": "1ef1ac47",
   "metadata": {},
   "outputs": [
    {
     "name": "stderr",
     "output_type": "stream",
     "text": [
      "100%|██████████| 1000/1000 [00:34<00:00, 29.19it/s]\n"
     ]
    }
   ],
   "source": [
    "overlap_dict = {}\n",
    "data_name = 'reclor-test'\n",
    "\n",
    "for e in tqdm(examples):\n",
    "    if 'race' in data_name:\n",
    "        _id = e.example_id + e.question + ''.join(e.endings)\n",
    "    else:\n",
    "        _id = e.example_id\n",
    "    q = [t.text.lower() for t in nlp(e.question)]\n",
    "    c = [t.text.lower() for t in nlp(e.contexts[0])]\n",
    "    overlap = []\n",
    "    for end in e.endings:\n",
    "        o = nlp(end)\n",
    "        n = 0\n",
    "        for t in o:\n",
    "            t = t.text.lower()\n",
    "            if t in q or t in c:\n",
    "                n += 1\n",
    "        overlap.append(n / len(o))\n",
    "    overlap_dict[_id] = overlap"
   ]
  },
  {
   "cell_type": "code",
   "execution_count": 13,
   "id": "b68722f2",
   "metadata": {},
   "outputs": [],
   "source": [
    "ids = [e.example_id + e.question + ''.join(e.endings) for e in examples]"
   ]
  },
  {
   "cell_type": "code",
   "execution_count": 14,
   "id": "d8790a7e",
   "metadata": {
    "scrolled": true
   },
   "outputs": [
    {
     "data": {
      "text/plain": [
       "(87866, 87865)"
      ]
     },
     "execution_count": 14,
     "metadata": {},
     "output_type": "execute_result"
    }
   ],
   "source": [
    "len(ids), len(set(ids))"
   ]
  },
  {
   "cell_type": "markdown",
   "id": "5a089baa",
   "metadata": {},
   "source": [
    "### Save/Load overlap dict "
   ]
  },
  {
   "cell_type": "code",
   "execution_count": 32,
   "id": "9421da99",
   "metadata": {},
   "outputs": [],
   "source": [
    "# data_name = 'reclor-train'\n",
    "data_name = 'race-train'\n",
    "# data_name = 'race-test'\n",
    "# data_name = 'reclor-test'\n",
    "file = Path(analysis_dir) / 'mc-qa' / f'option-overlap_{data_name}.json'\n",
    "# save_json(overlap_dict, file)\n",
    "overlap_dict = load_json(file)"
   ]
  },
  {
   "cell_type": "code",
   "execution_count": 75,
   "id": "a06fea79",
   "metadata": {},
   "outputs": [
    {
     "data": {
      "text/plain": [
       "(87865, 4934)"
      ]
     },
     "execution_count": 75,
     "metadata": {},
     "output_type": "execute_result"
    }
   ],
   "source": [
    "len(overlap_dict), len(examples)"
   ]
  },
  {
   "cell_type": "markdown",
   "id": "df832aa2",
   "metadata": {},
   "source": [
    "## Does Correct Option Have Max Lexical Overlap?"
   ]
  },
  {
   "cell_type": "code",
   "execution_count": 76,
   "id": "56948e0a",
   "metadata": {
    "scrolled": false
   },
   "outputs": [
    {
     "data": {
      "text/plain": [
       "'race-train'"
      ]
     },
     "execution_count": 76,
     "metadata": {},
     "output_type": "execute_result"
    }
   ],
   "source": [
    "data_name"
   ]
  },
  {
   "cell_type": "code",
   "execution_count": 78,
   "id": "cf48db14",
   "metadata": {},
   "outputs": [],
   "source": [
    "true_is_max_lo = 0\n",
    "N = 0\n",
    "\n",
    "id2maxlo = {}\n",
    "\n",
    "id2maxlo2 = {}\n",
    "\n",
    "examples = race_train_examples\n",
    "\n",
    "for e in examples:\n",
    "    N += 1\n",
    "    if 'race' in data_name:\n",
    "        _id = e.example_id + e.question + ''.join(e.endings)\n",
    "    else:\n",
    "        _id = e.example_id\n",
    "    label = int(e.label)\n",
    "    overlap = overlap_dict[_id]\n",
    "    to = overlap[label]\n",
    "    io = []\n",
    "    for i in [0, 1, 2, 3]:\n",
    "        if i != label:\n",
    "            io.append(overlap[i])\n",
    "    m = max(io)\n",
    "    is_max_lo = 1\n",
    "    if m > to:\n",
    "        is_max_lo = 0\n",
    "    elif m == to:\n",
    "        is_max_lo = None\n",
    "    id2maxlo2[_id] = is_max_lo\n",
    "\n",
    "    is_max_lo = 1\n",
    "    if m >= to:\n",
    "        is_max_lo = 0\n",
    "    id2maxlo[_id] = is_max_lo"
   ]
  },
  {
   "cell_type": "code",
   "execution_count": null,
   "id": "2ef87403",
   "metadata": {},
   "outputs": [],
   "source": [
    "[]"
   ]
  },
  {
   "cell_type": "code",
   "execution_count": 71,
   "id": "e0348ab4",
   "metadata": {
    "scrolled": false
   },
   "outputs": [
    {
     "data": {
      "text/plain": [
       "(1020, 4934)"
      ]
     },
     "execution_count": 71,
     "metadata": {},
     "output_type": "execute_result"
    }
   ],
   "source": [
    "sum(id2maxlo.values()), len(id2maxlo)"
   ]
  },
  {
   "cell_type": "code",
   "execution_count": 79,
   "id": "fcbb95a7",
   "metadata": {
    "scrolled": true
   },
   "outputs": [
    {
     "data": {
      "text/plain": [
       "Counter({None: 23437, 1: 18691, 0: 45737})"
      ]
     },
     "execution_count": 79,
     "metadata": {},
     "output_type": "execute_result"
    }
   ],
   "source": [
    "Counter(id2maxlo2.values())"
   ]
  },
  {
   "cell_type": "code",
   "execution_count": null,
   "id": "bb565772",
   "metadata": {},
   "outputs": [],
   "source": []
  },
  {
   "cell_type": "code",
   "execution_count": 125,
   "id": "1790e58d",
   "metadata": {},
   "outputs": [],
   "source": [
    "# data_name = 'reclor-train'\n",
    "data_name = 'race-train'\n",
    "# data_name = 'race-test'\n",
    "# data_name = 'reclor-test'\n",
    "file = Path(analysis_dir) / 'mc-qa' / f'correct-has-max-lexical-overlap_{data_name}.json'\n",
    "save_json(id2maxlo, file)\n",
    "id2maxlo = load_json(file)"
   ]
  },
  {
   "cell_type": "code",
   "execution_count": 73,
   "id": "37c3ad3f",
   "metadata": {},
   "outputs": [],
   "source": [
    "# data_name = 'reclor-train'\n",
    "# data_name = 'race-train'\n",
    "data_name = 'race-test'\n",
    "# data_name = 'reclor-test'\n",
    "file = Path(analysis_dir) / 'mc-qa' / f'correct-has-max-lexical-overlap-with-none_{data_name}.json'\n",
    "save_json(id2maxlo2, file)\n",
    "# id2maxlo = load_json(file)"
   ]
  },
  {
   "cell_type": "markdown",
   "id": "e93cdc45",
   "metadata": {},
   "source": [
    "## Vocab"
   ]
  },
  {
   "cell_type": "markdown",
   "id": "dcd90979",
   "metadata": {},
   "source": [
    "### Tokenize and Construct Vocab"
   ]
  },
  {
   "cell_type": "code",
   "execution_count": 17,
   "id": "5af19a95",
   "metadata": {},
   "outputs": [
    {
     "data": {
      "text/plain": [
       "'race-train'"
      ]
     },
     "execution_count": 17,
     "metadata": {},
     "output_type": "execute_result"
    }
   ],
   "source": [
    "data_name"
   ]
  },
  {
   "cell_type": "code",
   "execution_count": 464,
   "id": "189a605b",
   "metadata": {},
   "outputs": [],
   "source": [
    "answers = [e.endings[int(e.label)] for e in examples]\n",
    "distractors = []\n",
    "labels = [0, 1, 2, 3]\n",
    "for e in examples:\n",
    "    for l in labels:\n",
    "        if l != int(e.label):\n",
    "            distractors.append(e.endings[l])"
   ]
  },
  {
   "cell_type": "code",
   "execution_count": 465,
   "id": "0d75c508",
   "metadata": {
    "scrolled": true
   },
   "outputs": [
    {
     "data": {
      "text/plain": [
       "(87866, 263598)"
      ]
     },
     "execution_count": 465,
     "metadata": {},
     "output_type": "execute_result"
    }
   ],
   "source": [
    "len(answers), len(distractors)"
   ]
  },
  {
   "cell_type": "code",
   "execution_count": 466,
   "id": "21b43e01",
   "metadata": {
    "scrolled": false
   },
   "outputs": [
    {
     "name": "stderr",
     "output_type": "stream",
     "text": [
      "100%|██████████| 87866/87866 [05:17<00:00, 276.38it/s]\n",
      "100%|██████████| 263598/263598 [15:43<00:00, 279.45it/s]\n"
     ]
    }
   ],
   "source": [
    "vocab = defaultdict(dict)\n",
    "for a in tqdm(answers):\n",
    "    tokens = [t.text.lower() for t in nlp(a)]\n",
    "    for t in tokens:\n",
    "        vocab[t]['true'] = vocab[t].get('true', 0) + 1\n",
    "for d in tqdm(distractors):\n",
    "    tokens = [t.text.lower() for t in nlp(d)]\n",
    "    for t in tokens:\n",
    "        vocab[t]['false'] = vocab[t].get('false', 0) + 1"
   ]
  },
  {
   "cell_type": "code",
   "execution_count": 467,
   "id": "44aa4bea",
   "metadata": {},
   "outputs": [],
   "source": [
    "for v in vocab:\n",
    "    vocab[v]['prob'] = vocab[v].get('true', 0) / (vocab[v].get('true', 0) + vocab[v].get('false', 0))\n",
    "    vocab[v]['freq'] = vocab[v].get('true', 0) + vocab[v].get('false', 0)"
   ]
  },
  {
   "cell_type": "code",
   "execution_count": 468,
   "id": "d844dfcf",
   "metadata": {
    "scrolled": true
   },
   "outputs": [
    {
     "data": {
      "text/plain": [
       "36104"
      ]
     },
     "execution_count": 468,
     "metadata": {},
     "output_type": "execute_result"
    }
   ],
   "source": [
    "len(vocab)"
   ]
  },
  {
   "cell_type": "code",
   "execution_count": 49,
   "id": "56bc6ca4",
   "metadata": {},
   "outputs": [],
   "source": [
    "for v in vocab:\n",
    "    p = vocab[v]['freq']\n",
    "    y = vocab[v]['prob']\n",
    "    z = (y - 0.25) / math.sqrt(0.25 * 0.75 / p)\n",
    "    vocab[v]['z'] = z"
   ]
  },
  {
   "cell_type": "code",
   "execution_count": 50,
   "id": "ff32c56e",
   "metadata": {
    "scrolled": true
   },
   "outputs": [
    {
     "data": {
      "text/plain": [
       "{'true': 7,\n",
       " 'false': 17,\n",
       " 'prob': 0.2916666666666667,\n",
       " 'freq': 24,\n",
       " 'z': 0.47140452079103184}"
      ]
     },
     "execution_count": 50,
     "metadata": {},
     "output_type": "execute_result"
    }
   ],
   "source": [
    "vocab['famous']"
   ]
  },
  {
   "cell_type": "markdown",
   "id": "7e563e2b",
   "metadata": {},
   "source": [
    "### Save/Load Vocab"
   ]
  },
  {
   "cell_type": "code",
   "execution_count": 34,
   "id": "b62c6abf",
   "metadata": {},
   "outputs": [],
   "source": [
    "data_name = 'race-train'\n",
    "# data_name = 'reclor-train'\n",
    "\n",
    "\n",
    "file = Path(analysis_dir) / 'mc-qa' / f'option-vocab_{data_name}.json'\n",
    "# save_json(vocab, file)\n",
    "vocab = load_json(file)"
   ]
  },
  {
   "cell_type": "code",
   "execution_count": 19,
   "id": "134a2e96",
   "metadata": {
    "scrolled": true
   },
   "outputs": [
    {
     "data": {
      "text/plain": [
       "36104"
      ]
     },
     "execution_count": 19,
     "metadata": {},
     "output_type": "execute_result"
    }
   ],
   "source": [
    "len(vocab)"
   ]
  },
  {
   "cell_type": "markdown",
   "id": "1e2140e3",
   "metadata": {},
   "source": [
    "### top k"
   ]
  },
  {
   "cell_type": "code",
   "execution_count": 20,
   "id": "7b47df3c",
   "metadata": {},
   "outputs": [],
   "source": [
    "vz = [(v, vocab[v]['z']) for v in vocab]\n",
    "sorted_vz = sorted(vz, key=lambda x: x[1])"
   ]
  },
  {
   "cell_type": "code",
   "execution_count": 21,
   "id": "00bf9151",
   "metadata": {},
   "outputs": [],
   "source": [
    "topk = 1\n",
    "pos_word = [x[0] for x in sorted_vz[-topk:]]\n",
    "neg_word = [x[0] for x in sorted_vz[:topk]]"
   ]
  },
  {
   "cell_type": "code",
   "execution_count": 134,
   "id": "e9acc3ff",
   "metadata": {},
   "outputs": [],
   "source": [
    "file = Path(analysis_dir) / 'mc-qa' / f'top1-word_{data_name}.json'\n",
    "save_json(pos_word, file)\n",
    "# pos_word = load_json(file)"
   ]
  },
  {
   "cell_type": "code",
   "execution_count": 39,
   "id": "f4ed0ce9",
   "metadata": {
    "scrolled": false
   },
   "outputs": [
    {
     "name": "stdout",
     "output_type": "stream",
     "text": [
      "race-test\n",
      "['and']\n",
      "['only']\n"
     ]
    }
   ],
   "source": [
    "print(data_name)\n",
    "print(pos_word)\n",
    "print(neg_word)"
   ]
  },
  {
   "cell_type": "code",
   "execution_count": 158,
   "id": "5b3c5012",
   "metadata": {},
   "outputs": [
    {
     "name": "stdout",
     "output_type": "stream",
     "text": [
      "race-train\n"
     ]
    },
    {
     "data": {
      "text/plain": [
       "[(',', 9.320269439394076),\n",
       " ('something', 9.771763639228007),\n",
       " ('of', 9.77779021541762),\n",
       " ('objective', 10.014275524755362),\n",
       " ('might', 10.539303728279354),\n",
       " ('c', 13.529628504050919),\n",
       " ('b', 16.484449451145487),\n",
       " ('may', 20.66054087385846),\n",
       " ('above', 20.713908915129547),\n",
       " ('and', 23.645075672987726)]"
      ]
     },
     "execution_count": 158,
     "metadata": {},
     "output_type": "execute_result"
    }
   ],
   "source": [
    "print(data_name)\n",
    "sorted_vz[-10:]"
   ]
  },
  {
   "cell_type": "code",
   "execution_count": 162,
   "id": "9a32db8f",
   "metadata": {
    "scrolled": true
   },
   "outputs": [
    {
     "name": "stdout",
     "output_type": "stream",
     "text": [
      "reclor-train\n"
     ]
    },
    {
     "data": {
      "text/plain": [
       "[('aphids', 3.8729833462074166),\n",
       " ('player', 4.01188709901439),\n",
       " ('dinner', 4.016632088371219),\n",
       " ('stays', 4.242640687119285),\n",
       " ('not', 4.337094210761294),\n",
       " ('motive', 4.454276564173461),\n",
       " ('the', 4.948719535606995),\n",
       " ('an', 5.075982783427859),\n",
       " ('result', 5.293792820298356),\n",
       " ('a', 6.654926072139417)]"
      ]
     },
     "execution_count": 162,
     "metadata": {},
     "output_type": "execute_result"
    }
   ],
   "source": [
    "print(data_name)\n",
    "sorted_vz[-10:]"
   ]
  },
  {
   "cell_type": "markdown",
   "id": "666fbc97",
   "metadata": {},
   "source": [
    "### z threshold"
   ]
  },
  {
   "cell_type": "code",
   "execution_count": 283,
   "id": "c9df44cb",
   "metadata": {},
   "outputs": [],
   "source": [
    "thre = 2.33 # alfa = 1%\n",
    "# thre = 2.58 # alfa = 0.5%\n",
    "\n",
    "n_pos = 0\n",
    "pos_word = []\n",
    "n_neg = 0\n",
    "neg_word = []\n",
    "for v, z in vz:\n",
    "    if z >= thre:\n",
    "        # print(v, z)\n",
    "        n_pos += 1\n",
    "        pos_word.append(v)\n",
    "    if z <= -1 * thre:\n",
    "        n_neg += 1\n",
    "        neg_word.append(v)"
   ]
  },
  {
   "cell_type": "code",
   "execution_count": 265,
   "id": "7f6adf4b",
   "metadata": {},
   "outputs": [],
   "source": [
    "qids = [e.example_id + e.question + ''.join(e.endings) for e in examples]"
   ]
  },
  {
   "cell_type": "markdown",
   "id": "fff57f0d",
   "metadata": {},
   "source": [
    "### Tokenize options"
   ]
  },
  {
   "cell_type": "code",
   "execution_count": 139,
   "id": "d27659a7",
   "metadata": {
    "scrolled": true
   },
   "outputs": [
    {
     "name": "stderr",
     "output_type": "stream",
     "text": [
      "100%|██████████| 1000/1000 [00:19<00:00, 51.28it/s]\n"
     ]
    }
   ],
   "source": [
    "# examples = race_train_examples\n",
    "# examples = reclor_train_examples\n",
    "examples = reclor_test_examples\n",
    "# examples = race_test_examples\n",
    "# data_name = 'reclor-train'\n",
    "data_name = 'reclor-test'\n",
    "# data_name = 'race-test'\n",
    "\n",
    "id2correct = {}\n",
    "id2incorrect = defaultdict(list)\n",
    "for e in tqdm(examples):\n",
    "    if 'race' in data_name:\n",
    "        _id = e.example_id + e.question + ''.join(e.endings)\n",
    "    else:\n",
    "        _id = e.example_id\n",
    "    for i, end in enumerate(e.endings):\n",
    "        o = nlp(end)\n",
    "        if i == int(e.label):\n",
    "            id2correct[_id] = [t.text.lower() for t in o]\n",
    "        else:\n",
    "            id2incorrect[_id].append([t.text.lower() for t in o])"
   ]
  },
  {
   "cell_type": "code",
   "execution_count": 41,
   "id": "54f2b1e4",
   "metadata": {},
   "outputs": [],
   "source": [
    "data_name = 'race-train'"
   ]
  },
  {
   "cell_type": "code",
   "execution_count": 42,
   "id": "c78e7623",
   "metadata": {},
   "outputs": [],
   "source": [
    "file = Path(analysis_dir) / 'mc-qa' / f'tokenized-correct_{data_name}.json'\n",
    "# save_json(id2correct, file)\n",
    "id2correct = load_json(file)\n",
    "\n",
    "file = Path(analysis_dir) / 'mc-qa' / f'tokenized-incorrects_{data_name}.json'\n",
    "# save_json(id2incorrect, file)\n",
    "id2incorrect = load_json(file)"
   ]
  },
  {
   "cell_type": "markdown",
   "id": "e342c7e9",
   "metadata": {},
   "source": [
    "### count biased examples"
   ]
  },
  {
   "cell_type": "code",
   "execution_count": 500,
   "id": "683ee299",
   "metadata": {},
   "outputs": [],
   "source": [
    "file = Path(analysis_dir) / 'mc-qa' / f'top50-words_race-train.json'\n",
    "pos_word = load_json(file)"
   ]
  },
  {
   "cell_type": "code",
   "execution_count": 33,
   "id": "5c6e049a",
   "metadata": {},
   "outputs": [
    {
     "data": {
      "text/plain": [
       "(['and'], ['only'])"
      ]
     },
     "execution_count": 33,
     "metadata": {},
     "output_type": "execute_result"
    }
   ],
   "source": [
    "pos_word, neg_word"
   ]
  },
  {
   "cell_type": "code",
   "execution_count": 27,
   "id": "0319a862",
   "metadata": {},
   "outputs": [
    {
     "data": {
      "text/plain": [
       "'race-train'"
      ]
     },
     "execution_count": 27,
     "metadata": {},
     "output_type": "execute_result"
    }
   ],
   "source": [
    "data_name"
   ]
  },
  {
   "cell_type": "code",
   "execution_count": null,
   "id": "489e7479",
   "metadata": {},
   "outputs": [],
   "source": []
  },
  {
   "cell_type": "code",
   "execution_count": 44,
   "id": "61edbc55",
   "metadata": {},
   "outputs": [
    {
     "name": "stderr",
     "output_type": "stream",
     "text": [
      "100%|██████████| 87866/87866 [00:00<00:00, 134472.86it/s]\n"
     ]
    }
   ],
   "source": [
    "data_name = 'race-train'\n",
    "examples = race_train_examples\n",
    "\n",
    "only_correct_has_pos = {}\n",
    "only_incorrect_has_neg = {}\n",
    "\n",
    "only_correct_has_pos2 = {}\n",
    "\n",
    "for e in tqdm(examples):\n",
    "    if 'race' in data_name:\n",
    "        _id = e.example_id + e.question + ''.join(e.endings)\n",
    "    else:\n",
    "        _id = e.example_id\n",
    "    correct_has_at_least_one_pos = False\n",
    "    correct_has_at_least_one_neg = False\n",
    "    incorrect_has_at_least_one_pos = False\n",
    "    incorrect_has_at_least_one_neg = False\n",
    "    correct = id2correct[_id]\n",
    "    for t in correct:\n",
    "        if t in pos_word:\n",
    "            correct_has_at_least_one_pos = True\n",
    "        if t in neg_word:\n",
    "            correct_has_at_least_one_neg = True\n",
    "    incorrects = id2incorrect[_id]\n",
    "    for o in incorrects:\n",
    "        for t in o:\n",
    "            if t in pos_word:\n",
    "                incorrect_has_at_least_one_pos = True\n",
    "            if t in neg_word:\n",
    "                incorrect_has_at_least_one_neg = True\n",
    "    if correct_has_at_least_one_pos and (not incorrect_has_at_least_one_pos):\n",
    "        only_correct_has_pos[_id] = 1\n",
    "    else:\n",
    "        only_correct_has_pos[_id] = 0\n",
    "\n",
    "    if (not correct_has_at_least_one_neg) and incorrect_has_at_least_one_neg:\n",
    "        only_incorrect_has_neg[_id] = 1\n",
    "    else:\n",
    "        only_incorrect_has_neg[_id] = 0\n",
    "        \n",
    "    if correct_has_at_least_one_pos and (not incorrect_has_at_least_one_pos):\n",
    "        only_correct_has_pos2[_id] = 1\n",
    "    elif not correct_has_at_least_one_pos and incorrect_has_at_least_one_pos:\n",
    "        only_correct_has_pos2[_id] = 0\n",
    "    else:\n",
    "        only_correct_has_pos2[_id] = None"
   ]
  },
  {
   "cell_type": "markdown",
   "id": "3b41748a",
   "metadata": {},
   "source": [
    "### Save & Load"
   ]
  },
  {
   "cell_type": "code",
   "execution_count": 148,
   "id": "60d79562",
   "metadata": {},
   "outputs": [],
   "source": [
    "# data_name = 'reclor-train'\n",
    "# data_name = 'race-train'\n",
    "# data_name = 'race-test'\n",
    "data_name = 'reclor-test'\n",
    "file = Path(analysis_dir) / 'mc-qa' / f'only-correct-has-top1-word_{data_name}.json'\n",
    "save_json(only_correct_has_pos, file)\n",
    "# only_correct_has_pos = load_json(file)"
   ]
  },
  {
   "cell_type": "code",
   "execution_count": 47,
   "id": "c0bc2f35",
   "metadata": {},
   "outputs": [],
   "source": [
    "# data_name = 'reclor-train'\n",
    "data_name = 'race-train'\n",
    "# data_name = 'race-test'\n",
    "# data_name = 'reclor-test'\n",
    "file = Path(analysis_dir) / 'mc-qa' / f'only-correct-has-top1-word-with-none_{data_name}.json'\n",
    "save_json(only_correct_has_pos2, file)\n",
    "# only_correct_has_pos = load_json(file)"
   ]
  },
  {
   "cell_type": "code",
   "execution_count": 103,
   "id": "e3e9c314",
   "metadata": {},
   "outputs": [
    {
     "data": {
      "text/plain": [
       "4934"
      ]
     },
     "execution_count": 103,
     "metadata": {},
     "output_type": "execute_result"
    }
   ],
   "source": [
    "len(only_correct_has_pos)"
   ]
  },
  {
   "cell_type": "markdown",
   "id": "8f5dfdd7",
   "metadata": {},
   "source": [
    "## plot vocab"
   ]
  },
  {
   "cell_type": "code",
   "execution_count": 43,
   "id": "45b704a7",
   "metadata": {},
   "outputs": [],
   "source": [
    "# data_name = 'race-train'\n",
    "data_name = 'reclor-train'\n",
    "\n",
    "\n",
    "file = Path(analysis_dir) / 'mc-qa' / f'option-vocab_{data_name}.json'\n",
    "# save_json(vocab, file)\n",
    "vocab = load_json(file)"
   ]
  },
  {
   "cell_type": "code",
   "execution_count": 44,
   "id": "21c263a5",
   "metadata": {},
   "outputs": [
    {
     "name": "stdout",
     "output_type": "stream",
     "text": [
      "reclor-train\n"
     ]
    },
    {
     "data": {
      "text/plain": [
       "<matplotlib.legend.Legend at 0x7f547c5258d0>"
      ]
     },
     "execution_count": 44,
     "metadata": {},
     "output_type": "execute_result"
    },
    {
     "data": {
      "image/png": "[encoded data removed]",
      "text/plain": [
       "<Figure size 432x288 with 1 Axes>"
      ]
     },
     "metadata": {},
     "output_type": "display_data"
    }
   ],
   "source": [
    "print(data_name)\n",
    "\n",
    "Xhigh = []\n",
    "Yhigh = []\n",
    "\n",
    "Xmid = []\n",
    "Ymid = []\n",
    "\n",
    "Xlow = []\n",
    "Ylow = []\n",
    "\n",
    "for v in vocab:\n",
    "    p = vocab[v]['freq']\n",
    "    x = math.log(p) / math.log(10)\n",
    "    y = vocab[v]['prob']\n",
    "    high_boundary = 2.33 * math.sqrt(0.25 * 0.75 / 10 ** x) + 0.25\n",
    "    low_boundary = -2.33 * math.sqrt(0.25 * 0.75 / 10 ** x) + 0.25\n",
    "    if y > high_boundary:\n",
    "        Xhigh.append(x)\n",
    "        Yhigh.append(y)\n",
    "    # elif y < low_boundary:\n",
    "    elif False:\n",
    "        Xlow.append(x)\n",
    "        Ylow.append(y)\n",
    "    else:\n",
    "        Xmid.append(x)\n",
    "        Ymid.append(y)\n",
    "\n",
    "    # z = (y - 0.25) / math.sqrt(0.25 * 0.75 / p)\n",
    "    # Z[v] = z\n",
    "size = 2\n",
    "plt.scatter(Xhigh, Yhigh, marker='.', color='C0', s=size)\n",
    "plt.scatter(Xmid, Ymid, marker='.', color='gray', s=size)\n",
    "# plt.scatter(Xlow, Ylow, marker='.', color='C1', s=size)\n",
    "\n",
    "\n",
    "Xplot = [0.1 * i for i in range(55)]\n",
    "\n",
    "Yplot_upper = [ 2.33 * math.sqrt(0.25 * 0.75 / 10 ** x) + 0.25 for x in Xplot]\n",
    "Yplot_lower = [ -2.33 * math.sqrt(0.25 * 0.75 / 10 ** x) + 0.25 for x in Xplot]\n",
    "\n",
    "plt.plot(Xplot, Yplot_upper, color='C0', label='α =1%')\n",
    "# plt.plot(Xplot, Yplot_lower, color='C1')\n",
    "\n",
    "plt.xticks([0, 1, 2, 3, 4, 5], ['$10^0$', '$10^1$', '$10^2$', '$10^3$', '$10^4$', '$10^5$'], size=11)\n",
    "plt.ylim(-0.1, 1.1)\n",
    "plt.xlabel('Frequency of word $x_i$ in options', size=13)\n",
    "plt.ylabel('$p(y|x_i)$', size=13)\n",
    "plt.legend(fontsize=13)"
   ]
  },
  {
   "cell_type": "code",
   "execution_count": 82,
   "id": "9cd30d99",
   "metadata": {},
   "outputs": [],
   "source": [
    "sortedZ = sorted(Z.items(), key=lambda x: x[1])"
   ]
  },
  {
   "cell_type": "code",
   "execution_count": 92,
   "id": "dbeaba56",
   "metadata": {},
   "outputs": [
    {
     "data": {
      "text/plain": [
       "[('still', 8.371584807348908),\n",
       " ('about', 8.468725144606875),\n",
       " ('different', 8.633553233971561),\n",
       " ('or', 8.825894609202274),\n",
       " ('life', 8.866112058847547),\n",
       " ('positive', 8.91132788679007),\n",
       " ('probably', 8.919508528991598),\n",
       " ('mind', 8.93941843982621),\n",
       " ('both', 9.15177209629895),\n",
       " ('some', 9.262899818139202),\n",
       " (',', 9.320269439394076),\n",
       " ('something', 9.771763639228007),\n",
       " ('of', 9.77779021541762),\n",
       " ('objective', 10.014275524755362),\n",
       " ('might', 10.539303728279354),\n",
       " ('c', 13.529628504050919),\n",
       " ('b', 16.484449451145487),\n",
       " ('may', 20.66054087385846),\n",
       " ('above', 20.713908915129547),\n",
       " ('and', 23.645075672987726)]"
      ]
     },
     "execution_count": 92,
     "metadata": {},
     "output_type": "execute_result"
    }
   ],
   "source": [
    "sortedZ[-20:]"
   ]
  },
  {
   "cell_type": "code",
   "execution_count": 93,
   "id": "070950ac",
   "metadata": {},
   "outputs": [
    {
     "data": {
      "text/plain": [
       "{'true': 316, 'false': 527, 'prob': 0.3748517200474496, 'freq': 843}"
      ]
     },
     "execution_count": 93,
     "metadata": {},
     "output_type": "execute_result"
    }
   ],
   "source": [
    "vocab['still']"
   ]
  }
 ],
 "metadata": {
  "kernelspec": {
   "display_name": "Python 3",
   "language": "python",
   "name": "python3"
  },
  "language_info": {
   "codemirror_mode": {
    "name": "ipython",
    "version": 3
   },
   "file_extension": ".py",
   "mimetype": "text/x-python",
   "name": "python",
   "nbconvert_exporter": "python",
   "pygments_lexer": "ipython3",
   "version": "3.6.8"
  },
  "toc": {
   "base_numbering": 1,
   "nav_menu": {},
   "number_sections": true,
   "sideBar": true,
   "skip_h1_title": false,
   "title_cell": "Table of Contents",
   "title_sidebar": "Contents",
   "toc_cell": false,
   "toc_position": {
    "height": "calc(100% - 180px)",
    "left": "10px",
    "top": "150px",
    "width": "260px"
   },
   "toc_section_display": true,
   "toc_window_display": true
  }
 },
 "nbformat": 4,
 "nbformat_minor": 5
}
