{
 "cells": [
  {
   "cell_type": "markdown",
   "id": "bee06125",
   "metadata": {},
   "source": [
    "# For what is this notebook?\n",
    "- Computing the mean and standard deviations of estimated MDLs."
   ]
  },
  {
   "cell_type": "code",
   "execution_count": 1,
   "id": "278552d1",
   "metadata": {},
   "outputs": [],
   "source": [
    "import torch\n",
    "import os\n",
    "from pathlib import Path\n",
    "import math\n",
    "from torch.utils.data import Subset\n",
    "import random\n",
    "import numpy as np\n",
    "import pickle"
   ]
  },
  {
   "cell_type": "code",
   "execution_count": 2,
   "id": "dbb9f3cf",
   "metadata": {},
   "outputs": [],
   "source": [
    "RESULT_DIR = Path(os.environ['RE_EXQA_OUT_DIR']) / 'MDL'"
   ]
  },
  {
   "cell_type": "code",
   "execution_count": 13,
   "id": "b0af900e",
   "metadata": {},
   "outputs": [],
   "source": [
    "def print_mdl(exp_name, num_data):\n",
    "    for exp in exp_name:\n",
    "        mdls = []\n",
    "        mdls_normalized = []\n",
    "        print(exp)\n",
    "        for seed in seeds:\n",
    "            dir_name = exp + f'_seed{seed}' #  + '_0715'\n",
    "            pkl_file = RESULT_DIR / dir_name / 'online_code.pkl'\n",
    "            result = load_pickle(pkl_file)\n",
    "            mdl = result['MDL']\n",
    "            mdls.append(mdl / 1000)\n",
    "            mdls_normalized.append(mdl / num_data)\n",
    "        mean = np.mean(mdls)\n",
    "        std = np.std(mdls)\n",
    "        mean_n = np.mean(mdls_normalized)\n",
    "        std_n = np.std(mdls_normalized)\n",
    "        print(f'{round(mean, 2)} ± {round(std, 2)} / {round(mean_n, 2)} ± {round(std_n, 2)}')\n",
    "        print(mdls)\n",
    "        \n",
    "        print()"
   ]
  },
  {
   "cell_type": "code",
   "execution_count": 6,
   "id": "5dd2330f",
   "metadata": {},
   "outputs": [],
   "source": [
    "seeds = [42, 43, 44, 45, 46]"
   ]
  },
  {
   "cell_type": "code",
   "execution_count": 3,
   "id": "23447ee4",
   "metadata": {},
   "outputs": [],
   "source": [
    "def load_pickle(file):\n",
    "    with open(file, 'rb') as f:\n",
    "        data = pickle.load(f)\n",
    "    return data"
   ]
  },
  {
   "cell_type": "markdown",
   "id": "c174962b",
   "metadata": {},
   "source": [
    "## BERT-SQuAD"
   ]
  },
  {
   "cell_type": "code",
   "execution_count": 14,
   "id": "47bfa52e",
   "metadata": {},
   "outputs": [
    {
     "name": "stdout",
     "output_type": "stream",
     "text": [
      "bert_squad_mdl-aps_no-pati-short-cont\n",
      "4.65 ± 0.12 / 3.32 ± 0.09\n",
      "[4.803118953895734, 4.726412970752517, 4.632524231574508, 4.446587490066016, 4.656570759482856]\n",
      "\n",
      "bert_squad_mdl-qcss_no-pati-short-cont\n",
      "4.94 ± 0.24 / 3.53 ± 0.17\n",
      "[4.806662425616045, 5.399735615494482, 4.754790234380146, 4.790658848332941, 4.935317974989784]\n",
      "\n",
      "bert_squad_mdl-ac_no-pati-short-cont\n",
      "5.75 ± 0.3 / 4.11 ± 0.21\n",
      "[5.629267439450861, 6.208971963499567, 5.783730599471759, 5.285899086754665, 5.849243275461042]\n",
      "\n"
     ]
    }
   ],
   "source": [
    "RESULT_DIR = Path(os.environ['RE_EXQA_OUT_DIR']) / 'MDL'\n",
    "exp_name = [\n",
    "    \"bert_squad_mdl-aps_no-pati-short-cont\",\n",
    "    \"bert_squad_mdl-qcss_no-pati-short-cont\",\n",
    "    \"bert_squad_mdl-ac_no-pati-short-cont\",  \n",
    "]\n",
    "print_mdl(exp_name, 1400)"
   ]
  },
  {
   "cell_type": "code",
   "execution_count": 26,
   "id": "37d83c7b",
   "metadata": {},
   "outputs": [
    {
     "data": {
      "text/plain": [
       "{'MDL': 4226.287373888327,\n",
       " 'nll': [5.950642552587727,\n",
       "  5.550466537475586,\n",
       "  5.112548828125,\n",
       "  5.067837715148926,\n",
       "  6.015389442443848,\n",
       "  4.346299648284912,\n",
       "  2.5629691911298176,\n",
       "  3.5175655189601853,\n",
       "  2.2412620857783727,\n",
       "  2.5084650448390415,\n",
       "  1.454336244038173],\n",
       " 'block_size': [2, 1, 3, 6, 11, 22, 43, 87, 175, 350, 700],\n",
       " 'codelength': [8.584962500721156,\n",
       "  8.007630548236165,\n",
       "  7.375848840638619,\n",
       "  7.3113443396754105,\n",
       "  8.678372517629565,\n",
       "  6.270384948798089,\n",
       "  3.697582941994186,\n",
       "  5.074774330205872,\n",
       "  3.233457696484913,\n",
       "  3.6189500804325965,\n",
       "  2.0981636870589537]}"
      ]
     },
     "execution_count": 26,
     "metadata": {},
     "output_type": "execute_result"
    }
   ],
   "source": [
    "load_pickle(RESULT_DIR /  'roberta_squad_mdl-aps_no-pati-short-cont_seed42' / 'online_code.pkl')"
   ]
  },
  {
   "cell_type": "code",
   "execution_count": 27,
   "id": "7d0b1c17",
   "metadata": {},
   "outputs": [
    {
     "data": {
      "text/plain": [
       "{'MDL': 3479.037791988623,\n",
       " 'nll': [5.950642552587727,\n",
       "  6.4688897132873535,\n",
       "  4.279254913330078,\n",
       "  5.30696439743042,\n",
       "  5.518310546875,\n",
       "  5.308971405029297,\n",
       "  3.208128962405892,\n",
       "  2.4574845796343925,\n",
       "  2.2496637753077917,\n",
       "  1.6129957798549106,\n",
       "  1.229923337527684],\n",
       " 'block_size': [2, 1, 3, 6, 11, 22, 43, 87, 175, 350, 700],\n",
       " 'codelength': [8.584962500721156,\n",
       "  9.332635109417293,\n",
       "  6.173659842161035,\n",
       "  7.656331218347153,\n",
       "  7.961239260061826,\n",
       "  7.659226718257079,\n",
       "  4.6283517445952365,\n",
       "  3.545400816099637,\n",
       "  3.2455787723040945,\n",
       "  2.3270610125715057,\n",
       "  1.7744042997247924]}"
      ]
     },
     "execution_count": 27,
     "metadata": {},
     "output_type": "execute_result"
    }
   ],
   "source": [
    "load_pickle(RESULT_DIR /  'roberta_squad_mdl-qcss_no-pati-short-cont_seed42' / 'online_code.pkl')"
   ]
  },
  {
   "cell_type": "markdown",
   "id": "c5b5cd91",
   "metadata": {},
   "source": [
    "## RoBERTa-SQuAD"
   ]
  },
  {
   "cell_type": "code",
   "execution_count": 25,
   "id": "99d70e28",
   "metadata": {},
   "outputs": [
    {
     "name": "stdout",
     "output_type": "stream",
     "text": [
      "roberta_squad_mdl-aps_no-pati-short-cont\n",
      "4.22 ± 0.23 / 3.01 ± 0.17\n",
      "[4.2262873738883275, 4.070492097823633, 4.3889531401568505, 4.528986501392195, 3.860495848876134]\n",
      "\n",
      "roberta_squad_mdl-qcss_no-pati-short-cont\n",
      "3.73 ± 0.17 / 2.66 ± 0.12\n",
      "[3.479037791988623, 3.698613209563916, 3.818147290834291, 3.9775076159066374, 3.6532380813981495]\n",
      "\n",
      "roberta_squad_mdl-ac_no-pati-short-cont\n",
      "4.52 ± 0.06 / 3.23 ± 0.04\n",
      "[4.625650835207845, 4.457132640012269, 4.550110508852375, 4.528782503138979, 4.458505237332424]\n",
      "\n"
     ]
    }
   ],
   "source": [
    "RESULT_DIR = Path(os.environ['RE_EXQA_OUT_DIR']) / 'MDL'\n",
    "exp_name = [\n",
    "    \"roberta_squad_mdl-aps_no-pati-short-cont\",\n",
    "    \"roberta_squad_mdl-qcss_no-pati-short-cont\",\n",
    "    \"roberta_squad_mdl-ac_no-pati-short-cont\",  \n",
    "]\n",
    "print_mdl(exp_name, 1400)"
   ]
  },
  {
   "cell_type": "markdown",
   "id": "3f79a102",
   "metadata": {},
   "source": [
    "## BERT-NQ"
   ]
  },
  {
   "cell_type": "code",
   "execution_count": 23,
   "id": "e078083c",
   "metadata": {},
   "outputs": [
    {
     "name": "stdout",
     "output_type": "stream",
     "text": [
      "bert_nq_mdl-aps_no-pati-short-cont\n",
      "6.28 ± 0.15 / 1.57 ± 0.04\n",
      "[6.32840970842038, 6.3012402490247785, 6.328196452685033, 5.990628426148374, 6.456012730850145]\n",
      "\n",
      "bert_nq_mdl-qcss_no-pati-short-cont\n",
      "12.24 ± 0.14 / 3.06 ± 0.04\n",
      "[12.286942387050479, 12.222357217968849, 11.971642903163934, 12.344648025144288, 12.35918407446758]\n",
      "\n",
      "bert_nq_mdl-ac_no-pati-short-cont\n",
      "11.76 ± 0.55 / 2.94 ± 0.14\n",
      "[12.63184439365988, 11.185865036547712, 11.152342187872561, 11.916084968591695, 11.914468811161214]\n",
      "\n"
     ]
    }
   ],
   "source": [
    "RESULT_DIR = Path(os.environ['RE_EXQA_OUT_DIR']) / 'MDL'\n",
    "exp_name = [\n",
    "    \"bert_nq_mdl-aps_no-pati-short-cont\",\n",
    "    \"bert_nq_mdl-qcss_no-pati-short-cont\",\n",
    "    \"bert_nq_mdl-ac_no-pati-short-cont\",  \n",
    "]\n",
    "print_mdl(exp_name, 4000)"
   ]
  },
  {
   "cell_type": "markdown",
   "id": "c0ce1dad",
   "metadata": {},
   "source": [
    "## RoBERTa-NQ"
   ]
  },
  {
   "cell_type": "code",
   "execution_count": 24,
   "id": "ab3e19a2",
   "metadata": {},
   "outputs": [
    {
     "name": "stdout",
     "output_type": "stream",
     "text": [
      "roberta_nq_mdl-aps_no-pati-short-cont\n",
      "5.37 ± 0.24 / 1.34 ± 0.06\n",
      "[5.339140981434936, 5.7815245297583004, 5.110403767200513, 5.178120463118322, 5.457320306865356]\n",
      "\n",
      "roberta_nq_mdl-qcss_no-pati-short-cont\n",
      "9.08 ± 0.2 / 2.27 ± 0.05\n",
      "[9.020129695385243, 9.395957496381495, 9.192399203678661, 9.017542767435426, 8.79109083424413]\n",
      "\n",
      "roberta_nq_mdl-ac_no-pati-short-cont\n",
      "8.83 ± 0.38 / 2.21 ± 0.09\n",
      "[8.68298771314991, 8.614880309453625, 9.184548549263106, 9.353174662884168, 8.332521150773598]\n",
      "\n"
     ]
    }
   ],
   "source": [
    "RESULT_DIR = Path(os.environ['RE_EXQA_OUT_DIR']) / 'MDL'\n",
    "exp_name = [\n",
    "    \"roberta_nq_mdl-aps_no-pati-short-cont\",\n",
    "    \"roberta_nq_mdl-qcss_no-pati-short-cont\",\n",
    "    \"roberta_nq_mdl-ac_no-pati-short-cont\",  \n",
    "]\n",
    "print_mdl(exp_name, 4000)"
   ]
  },
  {
   "cell_type": "markdown",
   "id": "9af249fc",
   "metadata": {},
   "source": [
    "## BERT-RACE"
   ]
  },
  {
   "cell_type": "code",
   "execution_count": 54,
   "id": "808be7ff",
   "metadata": {},
   "outputs": [
    {
     "name": "stdout",
     "output_type": "stream",
     "text": [
      "mdl_bert_race_biased-maxlo-1-top1-0_3k-ex\n",
      "4.16 ± 0.55\n",
      "[3.915222570308091, 3.8117386606345134, 3.852292525970025, 3.9811002658872003, 5.245614453974933]\n",
      "\n",
      "mdl_bert_race_biased-maxlo-0-top1-1_3k-ex\n",
      "0.52 ± 0.34\n",
      "[0.31528597049987367, 0.4193923853975224, 0.3134102245696871, 1.1998429164082043, 0.34034675989762153]\n",
      "\n"
     ]
    }
   ],
   "source": [
    "RESULT_DIR = Path(os.environ['RE_MCQA_OUT_DIR'])\n",
    "exp_name = [\n",
    "    \"mdl_bert_race_biased-maxlo-1-top1-0_3k-ex\",\n",
    "    \"mdl_bert_race_biased-maxlo-0-top1-1_3k-ex\",\n",
    "]\n",
    "print_mdl(exp_name)"
   ]
  },
  {
   "cell_type": "markdown",
   "id": "10135a6b",
   "metadata": {},
   "source": [
    "## RoBERTa-RACE"
   ]
  },
  {
   "cell_type": "code",
   "execution_count": 57,
   "id": "a6d76c96",
   "metadata": {},
   "outputs": [
    {
     "name": "stdout",
     "output_type": "stream",
     "text": [
      "mdl_roberta_race_biased-maxlo-1-top1-0_no-patience\n",
      "3.55 ± 0.1\n",
      "[3.492696877862797, 3.7044777112363234, 3.414106161700267, 3.5366584340998153, 3.606260548248064]\n",
      "\n",
      "mdl_roberta_race_biased-maxlo-0-top1-1_no-patience\n",
      "0.41 ± 0.29\n",
      "[0.28526354225989453, 0.9239389172933945, 0.16576299590723434, 0.5274797131713201, 0.15647539791603463]\n",
      "\n"
     ]
    }
   ],
   "source": [
    "RESULT_DIR = Path(os.environ['RE_MCQA_OUT_DIR'])\n",
    "exp_name = [\n",
    "    \"mdl_roberta_race_biased-maxlo-1-top1-0_no-patience\",\n",
    "    \"mdl_roberta_race_biased-maxlo-0-top1-1_no-patience\",\n",
    "]\n",
    "print_mdl(exp_name)"
   ]
  },
  {
   "cell_type": "markdown",
   "id": "dcae4b02",
   "metadata": {},
   "source": [
    "## BERT-ReClor"
   ]
  },
  {
   "cell_type": "code",
   "execution_count": 61,
   "id": "a306af2e",
   "metadata": {},
   "outputs": [
    {
     "name": "stdout",
     "output_type": "stream",
     "text": [
      "mdl_bert_reclor_biased-maxlo-1-top1-0_no-patience\n",
      "0.55 ± 0.03\n",
      "[0.5439113127825035, 0.54073028306204, 0.5951508903017354, 0.5518630157765576, 0.5031240716333027]\n",
      "\n",
      "mdl_bert_reclor_biased-maxlo-0-top1-1_no-patience\n",
      "0.33 ± 0.07\n",
      "[0.39251696466229324, 0.40922720885478064, 0.24017640343285165, 0.2761462290416543, 0.3350438280653705]\n",
      "\n"
     ]
    }
   ],
   "source": [
    "RESULT_DIR = Path(os.environ['RE_MCQA_OUT_DIR'])\n",
    "exp_name = [\n",
    "    \"mdl_bert_reclor_biased-maxlo-1-top1-0_no-patience\",\n",
    "    \"mdl_bert_reclor_biased-maxlo-0-top1-1_no-patience\",\n",
    "]\n",
    "print_mdl(exp_name)"
   ]
  },
  {
   "cell_type": "markdown",
   "id": "a56758e5",
   "metadata": {},
   "source": [
    "## RoBERTa-ReClor"
   ]
  },
  {
   "cell_type": "code",
   "execution_count": 60,
   "id": "7ef94302",
   "metadata": {},
   "outputs": [
    {
     "name": "stdout",
     "output_type": "stream",
     "text": [
      "mdl_roberta_reclor_biased-maxlo-1-top1-0_no-patience\n",
      "0.52 ± 0.02\n",
      "[0.48601946322519357, 0.5171613733328834, 0.512675399387107, 0.5500751175028222, 0.518801585632774]\n",
      "\n",
      "mdl_roberta_reclor_biased-maxlo-0-top1-1_no-patience\n",
      "0.28 ± 0.03\n",
      "[0.326531122009451, 0.26102639088502494, 0.29869755031498624, 0.2739118335134833, 0.23516768594057733]\n",
      "\n"
     ]
    }
   ],
   "source": [
    "RESULT_DIR = Path(os.environ['RE_MCQA_OUT_DIR'])\n",
    "exp_name = [\n",
    "    \"mdl_roberta_reclor_biased-maxlo-1-top1-0_no-patience\",\n",
    "    \"mdl_roberta_reclor_biased-maxlo-0-top1-1_no-patience\",\n",
    "]\n",
    "print_mdl(exp_name)"
   ]
  }
 ],
 "metadata": {
  "kernelspec": {
   "display_name": "Python 3",
   "language": "python",
   "name": "python3"
  },
  "language_info": {
   "codemirror_mode": {
    "name": "ipython",
    "version": 3
   },
   "file_extension": ".py",
   "mimetype": "text/x-python",
   "name": "python",
   "nbconvert_exporter": "python",
   "pygments_lexer": "ipython3",
   "version": "3.6.8"
  },
  "toc": {
   "base_numbering": 1,
   "nav_menu": {},
   "number_sections": true,
   "sideBar": true,
   "skip_h1_title": false,
   "title_cell": "Table of Contents",
   "title_sidebar": "Contents",
   "toc_cell": false,
   "toc_position": {
    "height": "calc(100% - 180px)",
    "left": "10px",
    "top": "150px",
    "width": "167px"
   },
   "toc_section_display": true,
   "toc_window_display": true
  }
 },
 "nbformat": 4,
 "nbformat_minor": 5
}
